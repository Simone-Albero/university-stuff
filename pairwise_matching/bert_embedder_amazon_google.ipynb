{
 "cells": [
  {
   "cell_type": "code",
   "execution_count": 4,
   "metadata": {},
   "outputs": [],
   "source": [
    "from transformers import BertTokenizer, BertModel\n",
    "\n",
    "tokenizer = BertTokenizer.from_pretrained('bert-large-uncased')\n",
    "model = BertModel.from_pretrained('bert-large-uncased')"
   ]
  },
  {
   "cell_type": "code",
   "execution_count": 5,
   "metadata": {},
   "outputs": [],
   "source": [
    "DATASET_PATH = \"dataset2/\"\n",
    "GROUND_TRUTH_PATH = DATASET_PATH + 'Amzon_GoogleProducts_perfectMapping.csv'\n",
    "AMAZON_PATH = DATASET_PATH + \"Amazon.csv\"\n",
    "GOOGLE_PATH = DATASET_PATH + \"GoogleProducts.csv\""
   ]
  },
  {
   "cell_type": "code",
   "execution_count": 6,
   "metadata": {},
   "outputs": [
    {
     "name": "stdout",
     "output_type": "stream",
     "text": [
      "1363"
     ]
    }
   ],
   "source": [
    "import csv\n",
    "\n",
    "def entry2text(entry):\n",
    "    text = \"\"\n",
    "    for elem in entry:\n",
    "        text += (\" \" + elem)\n",
    "    return text\n",
    "\n",
    "def load_dataset(path: str):\n",
    "    dataset = dict()\n",
    "    with open(path, mode='r', encoding='ISO-8859-1') as file:\n",
    "        csv_reader = csv.reader(file)\n",
    "        for index, row in enumerate(csv_reader):\n",
    "            print(\"\\r\"+str(index), end=\"\")\n",
    "            if index == 0:\n",
    "                columns = row[1:]\n",
    "                continue\n",
    "            id = row[0]\n",
    "            dataset[id] = entry2text(row[1:])\n",
    "\n",
    "    return dataset, columns\n",
    "\n",
    "google_id2entry, google_columns = load_dataset(GOOGLE_PATH)\n",
    "amazon_id2entry, amazon_columns = load_dataset(AMAZON_PATH)"
   ]
  },
  {
   "cell_type": "code",
   "execution_count": 7,
   "metadata": {},
   "outputs": [],
   "source": [
    "def get_embedding(text: str):        \n",
    "    inputs = tokenizer(text, return_tensors='pt', padding=True, truncation=True, max_length=64)\n",
    "    outputs = model(**inputs)\n",
    "    \n",
    "    last_hidden_states = outputs.last_hidden_state\n",
    "    token_embeddings = last_hidden_states[0]\n",
    "\n",
    "    cls_embedding = token_embeddings[0].detach().numpy()\n",
    "\n",
    "    return cls_embedding\n",
    "\n",
    "def compute_embeddings(id2entry: dict) -> dict:\n",
    "    id2embedding = dict()\n",
    "    for i,id in enumerate(id2entry):\n",
    "        print(\"\\r\"+str(i), end=\"\")\n",
    "        embedding = get_embedding(id2entry[id])\n",
    "        id2embedding[id] = embedding\n",
    "    print()\n",
    "    return id2embedding"
   ]
  },
  {
   "cell_type": "code",
   "execution_count": 8,
   "metadata": {},
   "outputs": [
    {
     "name": "stdout",
     "output_type": "stream",
     "text": [
      "1362\n"
     ]
    }
   ],
   "source": [
    "amazon_id2embedding = compute_embeddings(amazon_id2entry)"
   ]
  },
  {
   "cell_type": "code",
   "execution_count": 9,
   "metadata": {},
   "outputs": [
    {
     "name": "stdout",
     "output_type": "stream",
     "text": [
      "3225\n"
     ]
    }
   ],
   "source": [
    "google_id2embedding = compute_embeddings(google_id2entry)"
   ]
  },
  {
   "cell_type": "code",
   "execution_count": 10,
   "metadata": {},
   "outputs": [],
   "source": [
    "import pickle\n",
    "\n",
    "SAVES_FOLDER = \"saves2/\"\n",
    "\n",
    "with open(SAVES_FOLDER + 'amazon_id2embedding.pkl', 'wb') as f:\n",
    "    pickle.dump(amazon_id2embedding, f)\n",
    "\n",
    "with open(SAVES_FOLDER + 'google_id2embedding.pkl', 'wb') as f:\n",
    "    pickle.dump(google_id2embedding, f)\n",
    "\n",
    "id2embedding = dict()\n",
    "for id in amazon_id2embedding:\n",
    "    id2embedding[id] = amazon_id2embedding[id]\n",
    "\n",
    "for id in google_id2embedding:\n",
    "    id2embedding[id] = google_id2embedding[id]\n",
    "\n",
    "with open(SAVES_FOLDER + 'id2embedding.pkl', 'wb') as f:\n",
    "    pickle.dump(id2embedding, f)"
   ]
  },
  {
   "cell_type": "code",
   "execution_count": 11,
   "metadata": {},
   "outputs": [
    {
     "name": "stdout",
     "output_type": "stream",
     "text": [
      "2600\n",
      "1300\n",
      "2600\n"
     ]
    }
   ],
   "source": [
    "import random\n",
    "\n",
    "positives = set()\n",
    "\n",
    "with open(GROUND_TRUTH_PATH, mode='r', encoding='ISO-8859-1') as file:\n",
    "    csv_reader = csv.reader(file)\n",
    "    for index, row in enumerate(csv_reader):\n",
    "        if index == 0:\n",
    "            columns = row\n",
    "            continue\n",
    "        row = (row[0], row[1])\n",
    "        positives.add(row)\n",
    "\n",
    "negatives = set()\n",
    "amazon_ids = list(amazon_id2entry.keys())\n",
    "google_ids = list(google_id2entry.keys())\n",
    "\n",
    "while len(negatives) < 2*len(positives):\n",
    "    google_id = random.choice(google_ids)\n",
    "    amazon_id = random.choice(amazon_ids)\n",
    "    entry = (amazon_id, google_id)\n",
    "    if (entry in positives): continue\n",
    "    if (entry in negatives): continue\n",
    "    negatives.add(entry)\n",
    "    print(\"\\r\"+str(len(negatives)), end=\"\")\n",
    "\n",
    "print()\n",
    "print(len(positives))\n",
    "print(len(negatives))"
   ]
  },
  {
   "cell_type": "code",
   "execution_count": 12,
   "metadata": {},
   "outputs": [
    {
     "name": "stdout",
     "output_type": "stream",
     "text": [
      "3900\n"
     ]
    }
   ],
   "source": [
    "import pandas as pd\n",
    "\n",
    "result = []\n",
    "for amazon_id, google_id in positives:\n",
    "    result.append((amazon_id, google_id, 1))\n",
    "for amazon_id, google_id in negatives:\n",
    "    result.append((amazon_id, google_id, 0))\n",
    "\n",
    "print(len(result))"
   ]
  },
  {
   "cell_type": "code",
   "execution_count": 13,
   "metadata": {},
   "outputs": [
    {
     "name": "stdout",
     "output_type": "stream",
     "text": [
      "3900\n"
     ]
    }
   ],
   "source": [
    "result = pd.DataFrame(result, columns=[\"left_spec_id\", \"right_spec_id\", \"label\"])\n",
    "result = result.sample(frac=1).reset_index(drop=True)\n",
    "print(len(result))\n",
    "\n",
    "result.to_csv(SAVES_FOLDER + 'dataset.csv', index=False)"
   ]
  }
 ],
 "metadata": {
  "kernelspec": {
   "display_name": "deep-learning",
   "language": "python",
   "name": "python3"
  },
  "language_info": {
   "codemirror_mode": {
    "name": "ipython",
    "version": 3
   },
   "file_extension": ".py",
   "mimetype": "text/x-python",
   "name": "python",
   "nbconvert_exporter": "python",
   "pygments_lexer": "ipython3",
   "version": "3.11.9"
  }
 },
 "nbformat": 4,
 "nbformat_minor": 2
}
