{
 "cells": [
  {
   "cell_type": "markdown",
   "metadata": {},
   "source": [
    "# N_Queen\n",
    "\n",
    "Descrizione del problema:\n",
    "- Stati: una qualsiasi disposizione di n regine, in modo tale che ci sia una sola regina per colonna e una sola regina per riga.\n",
    "- Goal State: una qualsiasi disposizione delle n regine sulla scacchiera che non si attaccano a vicenda.\n",
    "- Funzione successore: un qualsiasi scambio di due colonne della scacchiera.\n",
    "- Funzione di valutazione: numero di attacchi.\n",
    "- Test obiettivo: numero di attacchi uguale a zero. \n",
    "\n",
    "Algoritmi applicati:\n",
    "- Steepest Ascent Hill Climbing\n",
    "- Random-Restart Hill Climbing (Iterated Hill Climbing) \n",
    "- Stochastic Hill Climbing\n",
    "- Simulated Annealing"
   ]
  },
  {
   "cell_type": "markdown",
   "metadata": {},
   "source": [
    "# Import"
   ]
  },
  {
   "cell_type": "code",
   "execution_count": 1,
   "metadata": {},
   "outputs": [],
   "source": [
    "import random\n",
    "import math"
   ]
  },
  {
   "cell_type": "markdown",
   "metadata": {},
   "source": [
    "# Definizione dello Stato\n",
    "\n",
    "Variabili:\n",
    "- lst\n",
    "- dim\n",
    "- val\n",
    "\n",
    "Funzioni:\n",
    "- tweek\n",
    "- print"
   ]
  },
  {
   "cell_type": "code",
   "execution_count": 2,
   "metadata": {},
   "outputs": [],
   "source": [
    "class State:\n",
    "    \n",
    "    def __init__(self, lst, val):\n",
    "        self.dim = len(lst)\n",
    "        self.lst = lst\n",
    "        self.val = val\n",
    "    \n",
    "    def randomTweek(self):\n",
    "        i = random.randint(0, self.dim -1)\n",
    "        j = random.randint(0, self.dim -1)\n",
    "        while(i == j):\n",
    "            j = random.randint(0, self.dim -1)\n",
    "            \n",
    "        new_lst = self.lst.copy()\n",
    "        new_lst[i],new_lst[j] = new_lst[j],new_lst[i]\n",
    "        return new_lst\n",
    "    \n",
    "    def tweek(self, i, j):\n",
    "        new_lst = self.lst.copy()\n",
    "        new_lst[i],new_lst[j] = new_lst[j],new_lst[i]\n",
    "        return new_lst\n",
    "    \n",
    "    def __str__(self) -> str:\n",
    "        out = \"\"\n",
    "        for i in range(self.dim):\n",
    "            row = \"\"\n",
    "            for j in range(self.dim):\n",
    "                if self.lst[i] == j:\n",
    "                    row += \" Q \"\n",
    "                else:\n",
    "                    row += \" . \"\n",
    "            out += (row + \"\\n\")\n",
    "        return out\n"
   ]
  },
  {
   "cell_type": "markdown",
   "metadata": {},
   "source": [
    "# Game Definition\n",
    "\n",
    "Var:\n",
    "- initial_state\n",
    "- n_queens\n",
    "\n",
    "Fun:\n",
    "- randomStart\n",
    "- makeTweek\n",
    "- evalState\n",
    "- goalCheck"
   ]
  },
  {
   "cell_type": "code",
   "execution_count": 3,
   "metadata": {},
   "outputs": [],
   "source": [
    "class Game:\n",
    "    \n",
    "    def __init__(self, n_queens):\n",
    "        self.n_queens = n_queens\n",
    "        self.initial_state = self.randomStart()\n",
    "        \n",
    "    \n",
    "    def randomStart(self):\n",
    "        layout = list(range(self.n_queens))\n",
    "        \n",
    "        for _ in range(self.n_queens):\n",
    "            i = random.randint(0, self.n_queens -1)\n",
    "            j = random.randint(0, self.n_queens -1)\n",
    "            while(i == j):\n",
    "                j = random.randint(0, self.n_queens -1)\n",
    "            layout[i],layout[j] = layout[j],layout[i]\n",
    "        \n",
    "        return State(layout, self.evalState(layout))\n",
    "\n",
    "    def makeRandomTweek(self, state):\n",
    "        layout = state.randomTweek()\n",
    "        return State(layout, self.evalState(layout))\n",
    "    \n",
    "    def makeTweek(self, state, i, j):\n",
    "        layout = state.tweek(i,j)\n",
    "        return State(layout, self.evalState(layout))\n",
    "    \n",
    "    def evalState(self, layout):\n",
    "        collision = 0\n",
    "        dx = [-1,1,-1,1]\n",
    "        dy = [-1,1,1,-1]\n",
    "\n",
    "        for i in range(self.n_queens):  \n",
    "            for j in range(0,4):\n",
    "                row = i + dx[j]\n",
    "                col = layout[i] + dy[j]\n",
    "                \n",
    "                while(0<= row < self.n_queens and 0 <= col < self.n_queens):\n",
    "                    if(layout[row] == col):\n",
    "                        collision+=1\n",
    "                        \n",
    "                    row = row + dx[j]\n",
    "                    col = col + dy[j]\n",
    "        \n",
    "        return collision\n",
    "    \n",
    "    def goalCheck(self, state):\n",
    "        return self.evalState(state) == 0"
   ]
  },
  {
   "cell_type": "code",
   "execution_count": 4,
   "metadata": {},
   "outputs": [],
   "source": [
    "game = Game(8)\n",
    "#print(game.initial_state.lst, game.initial_state.val)\n"
   ]
  },
  {
   "cell_type": "markdown",
   "metadata": {},
   "source": [
    "# Steepest Ascent Hill Climbing\n",
    "\n",
    "Specifiche:\n",
    "\n",
    "- function STEEPEST-ASCENT(problem) returns uno stato che è un massimo locale\n",
    "\n",
    "- inputs: problem, un problema\n",
    "\n",
    "- local variables: current, un nodo next, un nodo\n",
    "\n",
    "Pseudocodice:\n",
    "\n",
    "    current ⟵ MAKE-NODE(INITIAL-STATE(problem))\n",
    "\n",
    "    loop do\n",
    "\n",
    "        next ⟵ successore di current di valore più alto\n",
    "\n",
    "        if VALUE(next) >= VALUE(current) then return STATE(current)\n",
    "\n",
    "        current ⟵ next\n",
    "\n",
    "    end"
   ]
  },
  {
   "cell_type": "code",
   "execution_count": 5,
   "metadata": {},
   "outputs": [],
   "source": [
    "def steepestAscent(game, initial_state):\n",
    "    curr = initial_state\n",
    "    \n",
    "    while(True):\n",
    "        \n",
    "        local_best = None\n",
    "        for i in range(game.n_queens -1):\n",
    "            for j in range (i+1, game.n_queens -1):\n",
    "                next = game.makeTweek(curr, i, j)\n",
    "                if (local_best == None or next.val < local_best.val):\n",
    "                    local_best = next\n",
    "        \n",
    "        if(local_best.val >= curr.val):\n",
    "            return local_best\n",
    "        \n",
    "        curr = local_best"
   ]
  },
  {
   "cell_type": "code",
   "execution_count": 6,
   "metadata": {},
   "outputs": [
    {
     "name": "stdout",
     "output_type": "stream",
     "text": [
      "[2, 4, 1, 5, 3, 6, 0, 7] 4\n"
     ]
    }
   ],
   "source": [
    "sol = steepestAscent(game, game.initial_state)\n",
    "print(sol.lst, sol.val)"
   ]
  },
  {
   "cell_type": "markdown",
   "metadata": {},
   "source": [
    "# Random-Restart Hill Climbing (Iterated Hill Climbing) \n",
    "\n",
    "Specifiche:\n",
    "\n",
    "- function RANDOM-RESTART-HILL-CLIMBING(problem) returns uno stato soluzione\n",
    "\n",
    "- inputs: problem, un problema\n",
    "\n",
    "- local variables: current, next, best: nodi; local: booleana\n",
    "\n",
    "Pseudocodice:\n",
    "\n",
    "    t ⟵ 0\n",
    "\n",
    "    Inizializza best\n",
    "\n",
    "    repeat\n",
    "\n",
    "        local ⟵ true\n",
    "\n",
    "        seleziona un punto iniziale current random\n",
    "\n",
    "        repeat\n",
    "\n",
    "            next ⟵ successore di current con VALUE più alto\n",
    "\n",
    "            if VALUE(next) < VALUE(current)\n",
    "\n",
    "                then current ⟵ next\n",
    "\n",
    "                else local ⟵ false\n",
    "\n",
    "        until local\n",
    "\n",
    "        t ⟵ t + 1\n",
    "\n",
    "        if VALUE(current) < VALUE(best) then best ⟵ current\n",
    "\n",
    "    until t = MAX\n",
    "\n",
    "    return STATE(best)\n",
    "    \n",
    "    end"
   ]
  },
  {
   "cell_type": "code",
   "execution_count": 7,
   "metadata": {},
   "outputs": [],
   "source": [
    "def randomRestart(game, max_iter):\n",
    "    curr_iter = 0\n",
    "    global_best = game.initial_state\n",
    "    \n",
    "    while(curr_iter < max_iter and global_best.val > 0):\n",
    "        local_best = steepestAscent(game, game.randomStart())\n",
    "        if(local_best.val < global_best.val):\n",
    "            global_best = local_best\n",
    "        curr_iter += 1\n",
    "    \n",
    "    return global_best\n"
   ]
  },
  {
   "cell_type": "code",
   "execution_count": 8,
   "metadata": {},
   "outputs": [
    {
     "name": "stdout",
     "output_type": "stream",
     "text": [
      "[15, 17, 7, 4, 8, 11, 19, 6, 2, 12, 1, 18, 10, 13, 9, 5, 3, 0, 14, 16] 0\n"
     ]
    }
   ],
   "source": [
    "game = Game(20)\n",
    "sol = randomRestart(game, 800)\n",
    "print(sol.lst, sol.val)\n",
    "\n"
   ]
  },
  {
   "cell_type": "markdown",
   "metadata": {},
   "source": [
    "# Stochastic Hill-Climbing\n",
    "\n",
    "Specifiche:\n",
    "- function STOCHASTIC-HILL-CLIMBING(problem) returns uno stato soluzione\n",
    "- inputs: problem, un problema\n",
    "- local variables: current, next, best: nodi\n",
    "\n",
    "Osservazioni:\n",
    "- ∆E = VALUE(next) - VALUE(current)\n",
    "- al crescere di T diventa sempre meno importante la differenza delle valutazioni dei due stati ai fini dell’accettazione dello stato next\n",
    "- Se invece T è molto piccolo (e.g., T = 1) la procedura diventa simile ad un semplice hill-climber.\n",
    "\n",
    "Pseudocodice:\n",
    "\n",
    "    t ⟵ 0\n",
    "    \n",
    "    seleziona un punto iniziale current random\n",
    "    \n",
    "    Inizializza best\n",
    "    \n",
    "    repeat\n",
    "    \n",
    "        next ⟵ seleziona successore di current random\n",
    "    \n",
    "        seleziona next come nodo corrente con probabilità p = 1/(1 + e∆E/T)\n",
    "    \n",
    "        se selezionato next come nuovo current:\n",
    "    \n",
    "            if VALUE(current) < VALUE(best) then best ⟵ current\n",
    "    \n",
    "            t ⟵ t + 1\n",
    "    \n",
    "    until t = MAX\n",
    "    \n",
    "    return STATE(best)\n",
    "    \n",
    "    end"
   ]
  },
  {
   "cell_type": "code",
   "execution_count": 9,
   "metadata": {},
   "outputs": [],
   "source": [
    "def stochasticHill(game, max_iter, t):\n",
    "    curr_iter = 0\n",
    "    global_best = game.initial_state\n",
    "    curr = game.initial_state\n",
    "    \n",
    "    while(curr_iter < max_iter and global_best.val > 0):\n",
    "        next = game.makeRandomTweek(curr)\n",
    "        \n",
    "        dE = next.val - curr.val \n",
    "        chosing_prob = 1 / (1 + math.exp(dE / t))\n",
    "        \n",
    "        if(random.random() < chosing_prob):\n",
    "            curr = next\n",
    "            if(curr.val < global_best.val):\n",
    "                global_best = curr\n",
    "        \n",
    "        curr_iter += 1\n",
    "        \n",
    "    return global_best"
   ]
  },
  {
   "cell_type": "code",
   "execution_count": 10,
   "metadata": {},
   "outputs": [
    {
     "name": "stdout",
     "output_type": "stream",
     "text": [
      "[3, 6, 0, 7, 4, 1, 5, 2] 0\n",
      " .  .  .  Q  .  .  .  . \n",
      " .  .  .  .  .  .  Q  . \n",
      " Q  .  .  .  .  .  .  . \n",
      " .  .  .  .  .  .  .  Q \n",
      " .  .  .  .  Q  .  .  . \n",
      " .  Q  .  .  .  .  .  . \n",
      " .  .  .  .  .  Q  .  . \n",
      " .  .  Q  .  .  .  .  . \n",
      "\n"
     ]
    }
   ],
   "source": [
    "game = Game(8)\n",
    "sol = stochasticHill(game, 2000000, 8)\n",
    "\n",
    "print(sol.lst, sol.val)\n",
    "print(sol)"
   ]
  },
  {
   "cell_type": "markdown",
   "metadata": {},
   "source": [
    "# Simulated Annealing\n",
    "\n",
    "Specifiche:\n",
    "- function SIMULATED-ANNEALING(problem) returns uno stato soluzione\n",
    "- inputs: problem, un problema\n",
    "- local variables: current, next: nodi;\n",
    "\n",
    "Osservazioni\n",
    "- T “temperatura” iniziale \n",
    "- g(T,t) rapporto di raffreddamento \n",
    "- condizione di terminazione (max step for change)\n",
    "- goal_check (halting-criterion)\n",
    "- ∆E = VALUE(next) - VALUE(current)\n",
    "\n",
    "Pseudocodice:\n",
    "    \n",
    "    t ⟵ 0\n",
    "    \n",
    "    Inizializza T\n",
    "    \n",
    "    seleziona un punto iniziale current random\n",
    "    \n",
    "    nizializza best\n",
    "    \n",
    "    repeat\n",
    "    \n",
    "        repeat\n",
    "    \n",
    "            next ⟵ successore di current scelto random\n",
    "    \n",
    "            if VALUE(next) > VALUE(current)\n",
    "    \n",
    "                then current ⟵ next\n",
    "    \n",
    "            if VALUE(current) > VALUE(best) then best ⟵ current\n",
    "    \n",
    "                else if random[0, 1) < e-∆E/T then current ⟵ next\n",
    "    \n",
    "        until (termination-condition)\n",
    "    \n",
    "        T = g(T, t)\n",
    "    \n",
    "        t ⟵ t + 1\n",
    "    \n",
    "    until (halting-criterion)\n",
    "    \n",
    "    return STATE(best)\n",
    "    \n",
    "    end"
   ]
  },
  {
   "cell_type": "code",
   "execution_count": 11,
   "metadata": {},
   "outputs": [],
   "source": [
    "def simulatedAnnealing(game, starting_temp, ending_temp, cooling_ratio, iter_for_change):\n",
    "    temp = starting_temp\n",
    "    curr = game.initial_state\n",
    "    global_best = game.initial_state\n",
    "    \n",
    "    while(temp > ending_temp and global_best.val > 0):\n",
    "        curr_iter = 0\n",
    "        \n",
    "        while(curr_iter < iter_for_change):\n",
    "            next = game.makeRandomTweek(curr)\n",
    "            flag = False\n",
    "            \n",
    "            if(next.val < curr.val):\n",
    "                curr = next\n",
    "                flag = True\n",
    "            else:\n",
    "                dE = next.val - curr.val    \n",
    "                chosing_prob = math.exp(-dE/temp)\n",
    "                if(random.random() < chosing_prob):\n",
    "                    curr = next\n",
    "                    flag = True\n",
    "            \n",
    "            if(curr.val < global_best.val and flag):\n",
    "                global_best = curr\n",
    "            \n",
    "            curr_iter += 1\n",
    "        \n",
    "        temp = temp * cooling_ratio\n",
    "    \n",
    "    return global_best"
   ]
  },
  {
   "cell_type": "code",
   "execution_count": 12,
   "metadata": {},
   "outputs": [
    {
     "name": "stdout",
     "output_type": "stream",
     "text": [
      "[14, 9, 13, 1, 8, 17, 0, 16, 5, 2, 10, 6, 4, 12, 15, 11, 18, 7, 3, 19] 2\n"
     ]
    }
   ],
   "source": [
    "game = Game(20)\n",
    "sol = simulatedAnnealing(game, 30, 0.5, 0.9, 100)\n",
    "print(sol.lst, sol.val)"
   ]
  },
  {
   "cell_type": "markdown",
   "metadata": {},
   "source": [
    "# Tabu Search\n",
    "\n",
    "Pseudocodice:\n",
    "\n",
    "    function tabu_search(problem)\n",
    "    \n",
    "    Definizione tabu tenure\n",
    "    \n",
    "    Inizializza la tabu list M\n",
    "    \n",
    "    current ⟵ un certo stato iniziale in S\n",
    "    \n",
    "    Inizializza best\n",
    "    \n",
    "    repeat\n",
    "    \n",
    "        Calcolo del neighborhood N di current\n",
    "    \n",
    "        current ⟵ migliore stato ∈ non_tabu_N\n",
    "    \n",
    "        update(M)\n",
    "    \n",
    "        best ⟵ migliore(current, best)\n",
    "    \n",
    "    until condizione-terminazione\n",
    "    \n",
    "    return STATE(best)"
   ]
  },
  {
   "cell_type": "code",
   "execution_count": 424,
   "metadata": {},
   "outputs": [],
   "source": [
    "def tabuSearch(game, tabu_tenure, max_iter):\n",
    "    tabu_list = {}\n",
    "    curr_iter = 0\n",
    "    curr = game.initial_state\n",
    "    global_best = game.initial_state\n",
    "    \n",
    "    while(curr_iter < max_iter and global_best.val > 0):\n",
    "\n",
    "        local_best = None\n",
    "        for i in range(game.n_queens):\n",
    "            for j in range (i+1, game.n_queens):\n",
    "                next = game.makeTweek(curr, i, j)\n",
    "                if((i,j) not in tabu_list and (local_best == None or next.val < local_best.val)):\n",
    "                    local_best = next\n",
    "                    move = (i,j)\n",
    "        \n",
    "        curr = local_best\n",
    "        \n",
    "        if(local_best.val < global_best.val):\n",
    "            global_best = local_best\n",
    "        \n",
    "        for key in tabu_list:\n",
    "            tabu_list[key] -= 1\n",
    "            \n",
    "        tabu_list = {k: tabu_list[k] for k in tabu_list if tabu_list[k]>0}   \n",
    "        tabu_list[move] = tabu_tenure\n",
    "        \n",
    "        curr_iter += 1\n",
    "    \n",
    "    return global_best                    "
   ]
  },
  {
   "cell_type": "code",
   "execution_count": 425,
   "metadata": {},
   "outputs": [
    {
     "name": "stdout",
     "output_type": "stream",
     "text": [
      "[5, 0, 4, 1, 7, 2, 6, 3] 0\n"
     ]
    }
   ],
   "source": [
    "game = Game(8)\n",
    "game.initial_state = State([7, 5, 4, 0, 1, 3, 6, 2], 4)\n",
    "sol = tabuSearch(game, 5, 100)\n",
    "\n",
    "print(sol.lst, sol.val)"
   ]
  },
  {
   "cell_type": "markdown",
   "metadata": {},
   "source": [
    "# Tabu Search con l’Aspiration Criterion\n",
    "\n",
    "Pseudocodice:\n",
    "\n",
    "    function tabu_search(problem)\n",
    "    \n",
    "    Definizione tabu tenure\n",
    "    \n",
    "    Inizializza la tabu list M\n",
    "    \n",
    "    current ⟵ un certo stato iniziale in S\n",
    "    \n",
    "    Inizializza best\n",
    "    \n",
    "    repeat\n",
    "    \n",
    "        Calcolo del neighborhood N di current\n",
    "    \n",
    "        Calcolo di A\n",
    "    \n",
    "        current ⟵ migliore stato ∈ {non_tabu_N ∪ A}\n",
    "    \n",
    "        update(M)\n",
    "    \n",
    "        best ⟵ migliore(current, best)\n",
    "    \n",
    "    until condizione-terminazione\n",
    "    \n",
    "    return STATE(best)"
   ]
  },
  {
   "cell_type": "code",
   "execution_count": 430,
   "metadata": {},
   "outputs": [],
   "source": [
    "def tabuSearchAC(game, tabu_tenure, max_iter):\n",
    "    tabu_list = {}\n",
    "    curr_iter = 0\n",
    "    curr = game.initial_state\n",
    "    global_best = game.initial_state\n",
    "    \n",
    "    while(curr_iter < max_iter and global_best.val > 0):\n",
    "        \n",
    "        local_best = None\n",
    "        for i in range(game.n_queens):\n",
    "            for j in range (i+1, game.n_queens):\n",
    "                next = game.makeTweek(curr, i, j)\n",
    "                \n",
    "                if((i,j) not in tabu_list and (local_best == None or next.val < global_best.val)):\n",
    "                    local_best = next\n",
    "                    move = (i,j)\n",
    "                \n",
    "                if(local_best != None and next.val < local_best.val and (i,j) not in tabu_list):\n",
    "                    local_best = next\n",
    "                    move = (i,j)\n",
    "        \n",
    "        curr = local_best\n",
    "        \n",
    "        if(local_best.val < global_best.val):\n",
    "            global_best = local_best\n",
    "            \n",
    "        for key in tabu_list:\n",
    "            tabu_list[key] -= 1\n",
    "            \n",
    "        tabu_list = {k: tabu_list[k] for k in tabu_list if tabu_list[k]>0}\n",
    "        tabu_list[move] = tabu_tenure\n",
    "        \n",
    "        curr_iter += 1\n",
    "    \n",
    "    return global_best"
   ]
  },
  {
   "cell_type": "code",
   "execution_count": 441,
   "metadata": {},
   "outputs": [
    {
     "name": "stdout",
     "output_type": "stream",
     "text": [
      "[5, 7, 1, 3, 0, 6, 4, 2] 0\n"
     ]
    }
   ],
   "source": [
    "game = Game(8)\n",
    "sol = tabuSearchAC(game, 5, 500)\n",
    "\n",
    "print(sol.lst, sol.val)"
   ]
  },
  {
   "cell_type": "markdown",
   "metadata": {},
   "source": [
    "# Tabu Search Frequency-Based Memory"
   ]
  },
  {
   "cell_type": "code",
   "execution_count": 442,
   "metadata": {},
   "outputs": [],
   "source": [
    "def tabuSearchFBM(game, tabu_tenure, max_iter, moves_knowledge, penality_ratio):\n",
    "    global_best = game.initial_state\n",
    "    curr = game.initial_state\n",
    "    curr_iter = 0\n",
    "    \n",
    "    tabu_list = {}\n",
    "    fb_meory = {}\n",
    "    last_moves = []\n",
    "    \n",
    "    while(curr_iter < max_iter and global_best.val > 0):\n",
    "        \n",
    "        local_best = None\n",
    "        for i in range(game.n_queens):\n",
    "            for j in range(i+1, game.n_queens):\n",
    "                next = game.makeTweek(curr, i, j)\n",
    "                \n",
    "                if((i,j) not in tabu_list and (local_best == None or next.val < global_best.val)):\n",
    "                    local_best = next\n",
    "                    move = (i,j)\n",
    "                \n",
    "                if(local_best != None and (next.val - penality_ratio * fb_meory.get((i,j),0)) < (local_best.val - penality_ratio * fb_meory.get((i,j),0)) and (i,j) not in tabu_list):\n",
    "                    local_best = next\n",
    "                    move = (i,j)\n",
    "                \n",
    "        curr = local_best\n",
    "        \n",
    "        if(local_best.val < global_best.val):\n",
    "            global_best = local_best\n",
    "            \n",
    "        if(len(last_moves) == moves_knowledge):\n",
    "            fb_meory[last_moves.pop(0)] -= 1\n",
    "            \n",
    "        fb_meory[move] = fb_meory.get(move, 0) + 1\n",
    "        last_moves.append(move)\n",
    "            \n",
    "            \n",
    "        for key in tabu_list:\n",
    "            tabu_list[key] -= 1\n",
    "        \n",
    "        tabu_list = {k: tabu_list[k] for k in tabu_list if tabu_list[k] > 0}\n",
    "        tabu_list[move] = tabu_tenure\n",
    "        \n",
    "        curr_iter += 1\n",
    "    \n",
    "    return global_best\n",
    "    "
   ]
  },
  {
   "cell_type": "code",
   "execution_count": 454,
   "metadata": {},
   "outputs": [
    {
     "name": "stdout",
     "output_type": "stream",
     "text": [
      "[3, 10, 0, 19, 1, 12, 14, 11, 8, 5, 2, 16, 18, 6, 15, 17, 7, 4, 13, 9] 0\n"
     ]
    }
   ],
   "source": [
    "game = Game(20)\n",
    "sol = tabuSearchFBM(game, 5, 200, 70, 0.7)\n",
    "\n",
    "print(sol.lst, sol.val)"
   ]
  }
 ],
 "metadata": {
  "kernelspec": {
   "display_name": "Python 3.10.6 ('venv': venv)",
   "language": "python",
   "name": "python3"
  },
  "language_info": {
   "codemirror_mode": {
    "name": "ipython",
    "version": 3
   },
   "file_extension": ".py",
   "mimetype": "text/x-python",
   "name": "python",
   "nbconvert_exporter": "python",
   "pygments_lexer": "ipython3",
   "version": "3.10.6"
  },
  "orig_nbformat": 4,
  "vscode": {
   "interpreter": {
    "hash": "7985acd287ba3c44cc70c28ead8dcd5c5608ce37874770b3b609b211f3cc007c"
   }
  }
 },
 "nbformat": 4,
 "nbformat_minor": 2
}
