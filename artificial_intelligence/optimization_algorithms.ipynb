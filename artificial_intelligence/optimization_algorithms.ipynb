{
 "cells": [
  {
   "cell_type": "code",
   "execution_count": null,
   "metadata": {},
   "outputs": [],
   "source": [
    "def hillClimbing(initial_state):\n",
    "    curr = initial_state\n",
    "    best = initial_state\n",
    "    best_val = eval(best)\n",
    "\n",
    "    while(True):\n",
    "        curr = bestSucc(curr)\n",
    "        curr_val = eval(curr)\n",
    "        if(curr_val >= best_val):\n",
    "            return (curr, curr_val)\n",
    "        else:\n",
    "            best = curr\n",
    "            best_val = curr_val"
   ]
  },
  {
   "cell_type": "code",
   "execution_count": null,
   "metadata": {},
   "outputs": [],
   "source": [
    "def randomRestart(max_iter):\n",
    "    best = randomStart()\n",
    "    best_val = eval(best)\n",
    "    i = 0\n",
    "\n",
    "    while(i < max_iter):\n",
    "        curr = hillClimbing(randomStart())\n",
    "        curr_val = eval(curr)\n",
    "        if(curr_val > best_val):\n",
    "            best = curr\n",
    "            curr_val = best_val\n",
    "    return best\n",
    "        "
   ]
  },
  {
   "cell_type": "code",
   "execution_count": null,
   "metadata": {},
   "outputs": [],
   "source": [
    "def stocasticHC(max_iter, temp, initial_state):\n",
    "    best = initial_state\n",
    "    best_val = eval(best)\n",
    "    curr = best\n",
    "    cur_val = best_val\n",
    "\n",
    "    for _ in range (max_iter):\n",
    "        next = tweek(curr)\n",
    "        next_val = eval(next)\n",
    "        dE = cur_val - next_val\n",
    "\n",
    "        if(random.random() < 1/1+exp(dE/temp):\n",
    "            curr = next\n",
    "            curr_val = next_val\n",
    "\n",
    "            if(cur_val > next_val):\n",
    "                best = curr\n",
    "                best_val = curr_val\n",
    "    return best\n"
   ]
  },
  {
   "cell_type": "code",
   "execution_count": null,
   "metadata": {},
   "outputs": [],
   "source": [
    "def simulated(intial_state, step, init_temp, ending_temp, ratio):\n",
    "    global_best = initial_state\n",
    "    global_best_val = eval(global_best)\n",
    "    curr = initial_state\n",
    "    temp = init_temp\n",
    "\n",
    "    while(temp > ending_temp):\n",
    "\n",
    "        for _ in range(step):\n",
    "            next = tweek(curr)\n",
    "            next_val = eval(next)\n",
    "\n",
    "            if(next_val > cur_val):\n",
    "                curr = next\n",
    "                cur_val = next_val\n",
    "\n",
    "                if(cur_val > global_best_val):\n",
    "                    global_best = curr\n",
    "                    global_best_val = cur_val\n",
    "\n",
    "            else:\n",
    "                dE = cur_val - next_val\n",
    "\n",
    "                if(random.random() < exp(-dE/t)):\n",
    "                    curr = next\n",
    "                    cur_val = next_val\n",
    "            \n",
    "        temp = temp * ratio\n",
    "    \n",
    "    return global_best"
   ]
  },
  {
   "cell_type": "code",
   "execution_count": null,
   "metadata": {},
   "outputs": [],
   "source": [
    "def tabu(initial_state, max_iter, tabu_tenure):\n",
    "    curr = initial_state\n",
    "    cur_val = eval(curr)\n",
    "    best = curr\n",
    "    best_val = eval(curr)\n",
    "\n",
    "    tabu_list = {}\n",
    "\n",
    "    for _ in range(max_iter):\n",
    "\n",
    "        succ = successori(curr)\n",
    "\n",
    "        for elem in succ:\n",
    "            if(elem[1] not in tabu_list):\n",
    "                curr = elem[0]\n",
    "                cur_val = eval(elem)\n",
    "                move = elem[1]\n",
    "                break\n",
    "        \n",
    "        if(cur_val > best_val):\n",
    "            best = curr\n",
    "            best_val = cur_val\n",
    "        \n",
    "        for k in tabu_list:\n",
    "            tabu_list[k] -= 1\n",
    "\n",
    "        tabu_list = {k for k in tabu if tabu[k] > 0}\n",
    "\n",
    "        tabu[move] = tabu_tenure\n",
    "    \n",
    "    return best"
   ]
  }
 ],
 "metadata": {
  "kernelspec": {
   "display_name": "Python 3.9.6 64-bit",
   "language": "python",
   "name": "python3"
  },
  "language_info": {
   "codemirror_mode": {
    "name": "ipython",
    "version": 3
   },
   "file_extension": ".py",
   "mimetype": "text/x-python",
   "name": "python",
   "nbconvert_exporter": "python",
   "pygments_lexer": "ipython3",
   "version": "3.9.6"
  },
  "orig_nbformat": 4,
  "vscode": {
   "interpreter": {
    "hash": "31f2aee4e71d21fbe5cf8b01ff0e069b9275f58929596ceb00d14d90e3e16cd6"
   }
  }
 },
 "nbformat": 4,
 "nbformat_minor": 2
}
