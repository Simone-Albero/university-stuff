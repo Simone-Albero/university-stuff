{
 "cells": [
  {
   "cell_type": "code",
   "execution_count": 10,
   "metadata": {},
   "outputs": [],
   "source": [
    "import requests as req"
   ]
  },
  {
   "cell_type": "code",
   "execution_count": 11,
   "metadata": {},
   "outputs": [
    {
     "name": "stdout",
     "output_type": "stream",
     "text": [
      "flag{wh47_i5_y0ur_qu3ry}\n"
     ]
    }
   ],
   "source": [
    "res = req.get(\"http://web-02.challs.olicyber.it/server-records\", \"id=flag\")\n",
    "print(res.text)"
   ]
  },
  {
   "cell_type": "code",
   "execution_count": 12,
   "metadata": {},
   "outputs": [
    {
     "name": "stdout",
     "output_type": "stream",
     "text": [
      "flag{7ru57_m3_i_m_7h3_4dmin}\n"
     ]
    }
   ],
   "source": [
    "res = req.get(\"http://web-03.challs.olicyber.it/flag\", headers = {\"X-Password\": \"admin\"})\n",
    "print(res.text)"
   ]
  },
  {
   "cell_type": "code",
   "execution_count": 13,
   "metadata": {},
   "outputs": [
    {
     "name": "stdout",
     "output_type": "stream",
     "text": [
      "{\n",
      "  \"users\": [\n",
      "    {\n",
      "      \"name\": \"admin\",\n",
      "      \"role\": \"admin\",\n",
      "      \"registration_date\": \"2018-06-18T15:34:55Z\"\n",
      "    },\n",
      "    {\n",
      "      \"name\": \"fruitfly\",\n",
      "      \"role\": \"user\",\n",
      "      \"registration_date\": \"2019-08-12T12:04:32Z\"\n",
      "    },\n",
      "    {\n",
      "      \"name\": \"jim87\",\n",
      "      \"role\": \"user\",\n",
      "      \"registration_date\": \"2022-01-13T20:09:43Z\"\n",
      "    },\n",
      "    {\n",
      "      \"name\": \"anonymous05\",\n",
      "      \"role\": \"user\",\n",
      "      \"registration_date\": \"2022-03-09T16:01:07Z\"\n",
      "    }\n",
      "  ]\n",
      "}\n"
     ]
    }
   ],
   "source": [
    "res = req.get(\"http://web-04.challs.olicyber.it/users\", params = {\"format\": \"application/xml\"})\n",
    "print(res.text)"
   ]
  },
  {
   "cell_type": "code",
   "execution_count": 14,
   "metadata": {},
   "outputs": [
    {
     "name": "stdout",
     "output_type": "stream",
     "text": [
      "Bad username or password\n"
     ]
    }
   ],
   "source": [
    "res = req.post(\"http://web-08.challs.olicyber.it/login\", \"username=admin&password=admin\")\n",
    "print(res.text)"
   ]
  },
  {
   "cell_type": "code",
   "execution_count": 15,
   "metadata": {},
   "outputs": [
    {
     "name": "stdout",
     "output_type": "stream",
     "text": [
      "Bad username or password\n"
     ]
    }
   ],
   "source": [
    "data = {\n",
    "    \"username\": \"admin\",\n",
    "    \"password\": \"admin\"\n",
    "}\n",
    "\n",
    "res = req.post(\"http://web-08.challs.olicyber.it/login\", json = data)\n",
    "print(res.text)"
   ]
  }
 ],
 "metadata": {
  "kernelspec": {
   "display_name": "base",
   "language": "python",
   "name": "python3"
  },
  "language_info": {
   "codemirror_mode": {
    "name": "ipython",
    "version": 3
   },
   "file_extension": ".py",
   "mimetype": "text/x-python",
   "name": "python",
   "nbconvert_exporter": "python",
   "pygments_lexer": "ipython3",
   "version": "3.9.13"
  }
 },
 "nbformat": 4,
 "nbformat_minor": 2
}
